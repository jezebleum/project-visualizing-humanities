{
 "cells": [
  {
   "cell_type": "code",
   "execution_count": 1,
   "metadata": {},
   "outputs": [],
   "source": [
    "import pandas as pd\n",
    "import datetime\n",
    "from dateutil import parser"
   ]
  },
  {
   "cell_type": "code",
   "execution_count": 2,
   "metadata": {
    "scrolled": false
   },
   "outputs": [
    {
     "data": {
      "text/html": [
       "<div>\n",
       "<style scoped>\n",
       "    .dataframe tbody tr th:only-of-type {\n",
       "        vertical-align: middle;\n",
       "    }\n",
       "\n",
       "    .dataframe tbody tr th {\n",
       "        vertical-align: top;\n",
       "    }\n",
       "\n",
       "    .dataframe thead th {\n",
       "        text-align: right;\n",
       "    }\n",
       "</style>\n",
       "<table border=\"1\" class=\"dataframe\">\n",
       "  <thead>\n",
       "    <tr style=\"text-align: right;\">\n",
       "      <th></th>\n",
       "      <th>#Indiener</th>\n",
       "      <th>Partij Indiener</th>\n",
       "      <th>Medeindiener</th>\n",
       "      <th>Partij Medeindiener</th>\n",
       "      <th>datum motie</th>\n",
       "      <th>URL naar motie</th>\n",
       "    </tr>\n",
       "  </thead>\n",
       "  <tbody>\n",
       "    <tr>\n",
       "      <th>0</th>\n",
       "      <td>S. Faber</td>\n",
       "      <td>CDA</td>\n",
       "      <td>J.A. v. Kemenade</td>\n",
       "      <td>PvdA</td>\n",
       "      <td>1980.06.24</td>\n",
       "      <td>http://polidocs.nl/XML/MOT/1970028.xml</td>\n",
       "    </tr>\n",
       "    <tr>\n",
       "      <th>1</th>\n",
       "      <td>S. Faber</td>\n",
       "      <td>CDA</td>\n",
       "      <td>M.B. Engwirda</td>\n",
       "      <td>D66</td>\n",
       "      <td>1980.06.24</td>\n",
       "      <td>http://polidocs.nl/XML/MOT/1970028.xml</td>\n",
       "    </tr>\n",
       "    <tr>\n",
       "      <th>2</th>\n",
       "      <td>J.F. Snijder-Hazelhoff</td>\n",
       "      <td>VVD</td>\n",
       "      <td>J.J. Atsma</td>\n",
       "      <td>CDA</td>\n",
       "      <td>2004.11.16</td>\n",
       "      <td>http://polidocs.nl/XML/MOT/2050588.xml</td>\n",
       "    </tr>\n",
       "    <tr>\n",
       "      <th>3</th>\n",
       "      <td>J.F. Snijder-Hazelhoff</td>\n",
       "      <td>VVD</td>\n",
       "      <td>C.G. v.d. Staaij</td>\n",
       "      <td>SGP</td>\n",
       "      <td>2004.11.16</td>\n",
       "      <td>http://polidocs.nl/XML/MOT/2050588.xml</td>\n",
       "    </tr>\n",
       "    <tr>\n",
       "      <th>4</th>\n",
       "      <td>L.W.S.A.L.B. v.d. Laan</td>\n",
       "      <td>D66</td>\n",
       "      <td>C.B. Aptroot</td>\n",
       "      <td>VVD</td>\n",
       "      <td>2003.10.08</td>\n",
       "      <td>http://polidocs.nl/XML/MOT/2033130.xml</td>\n",
       "    </tr>\n",
       "  </tbody>\n",
       "</table>\n",
       "</div>"
      ],
      "text/plain": [
       "                #Indiener Partij Indiener      Medeindiener  \\\n",
       "0                S. Faber             CDA  J.A. v. Kemenade   \n",
       "1                S. Faber             CDA     M.B. Engwirda   \n",
       "2  J.F. Snijder-Hazelhoff             VVD        J.J. Atsma   \n",
       "3  J.F. Snijder-Hazelhoff             VVD  C.G. v.d. Staaij   \n",
       "4  L.W.S.A.L.B. v.d. Laan             D66      C.B. Aptroot   \n",
       "\n",
       "  Partij Medeindiener datum motie                          URL naar motie  \n",
       "0                PvdA  1980.06.24  http://polidocs.nl/XML/MOT/1970028.xml  \n",
       "1                 D66  1980.06.24  http://polidocs.nl/XML/MOT/1970028.xml  \n",
       "2                 CDA  2004.11.16  http://polidocs.nl/XML/MOT/2050588.xml  \n",
       "3                 SGP  2004.11.16  http://polidocs.nl/XML/MOT/2050588.xml  \n",
       "4                 VVD  2003.10.08  http://polidocs.nl/XML/MOT/2033130.xml  "
      ]
     },
     "execution_count": 2,
     "metadata": {},
     "output_type": "execute_result"
    }
   ],
   "source": [
    "# load data\n",
    "df = pd.read_csv(\"MOTNetwerk.csv\", sep=\";\")\n",
    "df.head()"
   ]
  },
  {
   "cell_type": "code",
   "execution_count": 3,
   "metadata": {},
   "outputs": [],
   "source": [
    "# make func that parses dates in data set\n",
    "def func(row):\n",
    "    row[\"datum motie\"] = parser.parse(row[\"datum motie\"])\n",
    "    return row"
   ]
  },
  {
   "cell_type": "code",
   "execution_count": 4,
   "metadata": {},
   "outputs": [
    {
     "data": {
      "text/html": [
       "<div>\n",
       "<style scoped>\n",
       "    .dataframe tbody tr th:only-of-type {\n",
       "        vertical-align: middle;\n",
       "    }\n",
       "\n",
       "    .dataframe tbody tr th {\n",
       "        vertical-align: top;\n",
       "    }\n",
       "\n",
       "    .dataframe thead th {\n",
       "        text-align: right;\n",
       "    }\n",
       "</style>\n",
       "<table border=\"1\" class=\"dataframe\">\n",
       "  <thead>\n",
       "    <tr style=\"text-align: right;\">\n",
       "      <th></th>\n",
       "      <th>#Indiener</th>\n",
       "      <th>Partij Indiener</th>\n",
       "      <th>Medeindiener</th>\n",
       "      <th>Partij Medeindiener</th>\n",
       "      <th>datum motie</th>\n",
       "      <th>URL naar motie</th>\n",
       "    </tr>\n",
       "  </thead>\n",
       "  <tbody>\n",
       "    <tr>\n",
       "      <th>0</th>\n",
       "      <td>S. Faber</td>\n",
       "      <td>CDA</td>\n",
       "      <td>J.A. v. Kemenade</td>\n",
       "      <td>PvdA</td>\n",
       "      <td>1980-06-24</td>\n",
       "      <td>http://polidocs.nl/XML/MOT/1970028.xml</td>\n",
       "    </tr>\n",
       "    <tr>\n",
       "      <th>1</th>\n",
       "      <td>S. Faber</td>\n",
       "      <td>CDA</td>\n",
       "      <td>M.B. Engwirda</td>\n",
       "      <td>D66</td>\n",
       "      <td>1980-06-24</td>\n",
       "      <td>http://polidocs.nl/XML/MOT/1970028.xml</td>\n",
       "    </tr>\n",
       "    <tr>\n",
       "      <th>2</th>\n",
       "      <td>J.F. Snijder-Hazelhoff</td>\n",
       "      <td>VVD</td>\n",
       "      <td>J.J. Atsma</td>\n",
       "      <td>CDA</td>\n",
       "      <td>2004-11-16</td>\n",
       "      <td>http://polidocs.nl/XML/MOT/2050588.xml</td>\n",
       "    </tr>\n",
       "    <tr>\n",
       "      <th>3</th>\n",
       "      <td>J.F. Snijder-Hazelhoff</td>\n",
       "      <td>VVD</td>\n",
       "      <td>C.G. v.d. Staaij</td>\n",
       "      <td>SGP</td>\n",
       "      <td>2004-11-16</td>\n",
       "      <td>http://polidocs.nl/XML/MOT/2050588.xml</td>\n",
       "    </tr>\n",
       "    <tr>\n",
       "      <th>4</th>\n",
       "      <td>L.W.S.A.L.B. v.d. Laan</td>\n",
       "      <td>D66</td>\n",
       "      <td>C.B. Aptroot</td>\n",
       "      <td>VVD</td>\n",
       "      <td>2003-10-08</td>\n",
       "      <td>http://polidocs.nl/XML/MOT/2033130.xml</td>\n",
       "    </tr>\n",
       "  </tbody>\n",
       "</table>\n",
       "</div>"
      ],
      "text/plain": [
       "                #Indiener Partij Indiener      Medeindiener  \\\n",
       "0                S. Faber             CDA  J.A. v. Kemenade   \n",
       "1                S. Faber             CDA     M.B. Engwirda   \n",
       "2  J.F. Snijder-Hazelhoff             VVD        J.J. Atsma   \n",
       "3  J.F. Snijder-Hazelhoff             VVD  C.G. v.d. Staaij   \n",
       "4  L.W.S.A.L.B. v.d. Laan             D66      C.B. Aptroot   \n",
       "\n",
       "  Partij Medeindiener datum motie                          URL naar motie  \n",
       "0                PvdA  1980-06-24  http://polidocs.nl/XML/MOT/1970028.xml  \n",
       "1                 D66  1980-06-24  http://polidocs.nl/XML/MOT/1970028.xml  \n",
       "2                 CDA  2004-11-16  http://polidocs.nl/XML/MOT/2050588.xml  \n",
       "3                 SGP  2004-11-16  http://polidocs.nl/XML/MOT/2050588.xml  \n",
       "4                 VVD  2003-10-08  http://polidocs.nl/XML/MOT/2033130.xml  "
      ]
     },
     "execution_count": 4,
     "metadata": {},
     "output_type": "execute_result"
    }
   ],
   "source": [
    "df.apply(func, axis=1).head()"
   ]
  },
  {
   "cell_type": "code",
   "execution_count": 5,
   "metadata": {},
   "outputs": [],
   "source": [
    "begin_datum = datetime.datetime(1981, 9, 11)\n",
    "eind_datum = datetime.datetime(1989, 8, 29)\n",
    "\n",
    "# begin_datum = \"1981-09-11\"\n",
    "# eind_datum = \"1989-11-29\"\n",
    "\n",
    "\n",
    "# Filter out all not needed data\n",
    "GL_pre = [(row[6], row[2], row[4]) for row in df.itertuples() if row[5] > begin_datum and row[5] < eind_datum and \n",
    "           str(row[4]).lower() != \"nan\" and str(row[4]).lower() != \"mep\" and str(row[4]).lower() != \"man\" \n",
    "           and str(row[4]).lower() != \"ppa\" and str(row[4]).lower() != \"avp\" and str(row[4]).lower() != \"pnp\"\n",
    "           and str(row[4]).lower() != \"dp\" and str(row[4]).lower() != \"dp\"]"
   ]
  },
  {
   "cell_type": "code",
   "execution_count": 6,
   "metadata": {},
   "outputs": [],
   "source": [
    "GL_tijd = []\n",
    "\n",
    "# join all parties whom collaborated on a motion\n",
    "\n",
    "for motie1 in GL_pre:\n",
    "    motie = list(motie1)\n",
    "    \n",
    "    for motie2 in GL_pre:\n",
    "        if motie1[0] == motie2[0]:\n",
    "            motie.append(motie2[-1])\n",
    "    \n",
    "    GL_tijd.append([motie[0]] + list(set(motie[1:])))\n",
    "    \n",
    "GL_tijd = [row for row in GL_tijd if len(row) > 2]\n",
    "new_GL_tijd = []\n",
    "\n",
    "for elem in GL_tijd:\n",
    "    if elem not in new_GL_tijd:\n",
    "        new_GL_tijd.append(elem)"
   ]
  },
  {
   "cell_type": "code",
   "execution_count": 7,
   "metadata": {},
   "outputs": [],
   "source": [
    "from itertools import combinations\n",
    "\n",
    "# Make a dict of all possible collabotations\n",
    "\n",
    "parties = set()\n",
    "for _, party1, party2 in GL_pre:\n",
    "    parties.add(party1)\n",
    "    parties.add(party2)\n",
    "\n",
    "my_dict = {parties : 0 for parties in combinations(parties, 2)}"
   ]
  },
  {
   "cell_type": "code",
   "execution_count": 8,
   "metadata": {},
   "outputs": [],
   "source": [
    "# Count all possible collaborations\n",
    "\n",
    "for key in my_dict.keys():\n",
    "    for row in GL_tijd:\n",
    "        if key[0] in row and key[1] in row:\n",
    "            my_dict[key] += 1\n",
    "            \n",
    "my_tuple = [(party[0], party[1], {\"weight\": my_dict[party]}) for party in my_dict.keys() if my_dict[party] > 0]"
   ]
  },
  {
   "cell_type": "code",
   "execution_count": 9,
   "metadata": {},
   "outputs": [],
   "source": [
    "import networkx as nx\n",
    "import matplotlib.pyplot as plt\n",
    "\n",
    "# make graph object\n",
    "G = nx.Graph()\n",
    "G.add_edges_from(my_tuple)"
   ]
  },
  {
   "cell_type": "code",
   "execution_count": 10,
   "metadata": {},
   "outputs": [
    {
     "name": "stderr",
     "output_type": "stream",
     "text": [
      "/opt/tljh/user/lib/python3.6/site-packages/networkx/drawing/nx_pylab.py:611: MatplotlibDeprecationWarning: isinstance(..., numbers.Number)\n",
      "  if cb.is_numlike(alpha):\n"
     ]
    },
    {
     "data": {
      "image/png": "[encoded data removed]",
      "text/plain": [
       "<Figure size 432x288 with 1 Axes>"
      ]
     },
     "metadata": {},
     "output_type": "display_data"
    }
   ],
   "source": [
    "%matplotlib inline\n",
    "\n",
    "# plot graph\n",
    "nx.draw(G, with_labels=True, linewidths=4, font_weight=\"bold\", width=2)\n",
    "plt.show()"
   ]
  },
  {
   "cell_type": "code",
   "execution_count": 11,
   "metadata": {},
   "outputs": [],
   "source": [
    "# make a new graph with random node positions\n",
    "H = nx.random_geometric_graph(len(parties), 0.125)\n",
    "positions_dict = nx.get_node_attributes(H, \"pos\")\n",
    "positions = [positions_dict[node] for node in positions_dict]\n",
    "\n",
    "# apply all random positions to the earlier made graph\n",
    "i = 0\n",
    "for node in G.nodes:\n",
    "    G.nodes[node][\"pos\"] = positions[i]\n",
    "    i += 1\n",
    "\n",
    "# Filter edges which are of interest\n",
    "GL_parties = [\"EVP\", \"PPR\", \"PSP\", \"CPN\"]\n",
    "edges_to_remove = []\n",
    "for edge in G.edges:\n",
    "    if edge[0] not in GL_parties and edge[1] not in GL_parties:\n",
    "        edges_to_remove.append(edge)\n",
    "        \n",
    "G.remove_edges_from(edges_to_remove)"
   ]
  },
  {
   "cell_type": "code",
   "execution_count": 12,
   "metadata": {},
   "outputs": [],
   "source": [
    "import matplotlib.pyplot as plt\n",
    "import matplotlib.colors\n",
    "\n",
    "# decide on color scaling\n",
    "max_weigth = max([node1[1][node2][\"weight\"] for node1 in G.adjacency() for node2 in node1[1]])\n",
    "min_weigth = min([node1[1][node2][\"weight\"] for node1 in G.adjacency() for node2 in node1[1]])\n",
    "\n",
    "norm = matplotlib.colors.Normalize(vmin=min_weigth, vmax=max_weigth)\n",
    "cmap = plt.cm.YlGnBu"
   ]
  },
  {
   "cell_type": "code",
   "execution_count": 13,
   "metadata": {},
   "outputs": [],
   "source": [
    "import plotly.plotly as py\n",
    "import plotly.graph_objs as go\n",
    "\n",
    "# make graph in the next 3 cells\n",
    "\n",
    "pos = nx.get_node_attributes(G, 'pos')\n",
    "\n",
    "dmin = 1\n",
    "ncenter = 0\n",
    "for n in pos:\n",
    "    x, y = pos[n]\n",
    "    d = (x-0.5)**2 + (y-0.5)**2\n",
    "    if d < dmin:\n",
    "        ncenter = n\n",
    "        dmin = d\n",
    "\n",
    "p = nx.single_source_shortest_path_length(G, ncenter)"
   ]
  },
  {
   "cell_type": "code",
   "execution_count": 14,
   "metadata": {},
   "outputs": [],
   "source": [
    "from copy import deepcopy\n",
    "\n",
    "data = []\n",
    "\n",
    "edge_trace = go.Scatter(\n",
    "    x=[],\n",
    "    y=[],\n",
    "    line=dict(width=2, \n",
    "              color='#000', \n",
    "              ),\n",
    "    hoverinfo='text',\n",
    "    mode='lines')\n",
    "\n",
    "\n",
    "for edge in G.edges():\n",
    "    x0, y0 = G.node[edge[0]]['pos']\n",
    "    x1, y1 = G.node[edge[1]]['pos']\n",
    "    edge_trace['x'] = (x0, (x0+x1)/2, x1, None)\n",
    "    edge_trace['y'] = (y0, (y0+y1)/2, y1, None)\n",
    "    edge_info = '{}, {}: {}'.format(edge[0], edge[1], G[edge[0]][edge[1]][\"weight\"])\n",
    "    edge_trace['text'] = edge_info\n",
    "    r, g, b, _ = cmap(norm(G[edge[0]][edge[1]][\"weight\"]))\n",
    "    color = \"rgb({}, {}, {})\".format(r, g, b)\n",
    "    edge_trace['line']['color'] = color\n",
    "    data.append(deepcopy(edge_trace))\n",
    "\n",
    "node_trace = go.Scatter(\n",
    "    x=[],\n",
    "    y=[],\n",
    "    text=[],\n",
    "    mode='markers',\n",
    "    hoverinfo='text',\n",
    "    marker=dict(\n",
    "        showscale=True,\n",
    "        colorscale=\"YlGnBu\", \n",
    "        reversescale=True, \n",
    "        colorbar=dict(\n",
    "                  thickness=15,\n",
    "                  title='Edge strength',\n",
    "                  xanchor='left',\n",
    "                  titleside='right'\n",
    "        ),\n",
    "        color=\"#000\",\n",
    "        size=15,\n",
    "        line=dict(width=2)))\n",
    "\n",
    "for node in G.nodes():\n",
    "    x, y = G.node[node]['pos']\n",
    "    node_trace['x'] += tuple([x])\n",
    "    node_trace['y'] += tuple([y])\n"
   ]
  },
  {
   "cell_type": "code",
   "execution_count": 15,
   "metadata": {},
   "outputs": [],
   "source": [
    "for node, adjacencies in enumerate(G.adjacency()):\n",
    "    node_info = 'Party: ' + str(list(G.nodes)[node])\n",
    "    node_trace['text'] += tuple([node_info])"
   ]
  },
  {
   "cell_type": "code",
   "execution_count": 16,
   "metadata": {},
   "outputs": [
    {
     "name": "stderr",
     "output_type": "stream",
     "text": [
      "/opt/tljh/user/lib/python3.6/site-packages/IPython/core/display.py:689: UserWarning:\n",
      "\n",
      "Consider using IPython.display.IFrame instead\n",
      "\n"
     ]
    },
    {
     "data": {
      "text/html": [
       "<iframe id=\"igraph\" scrolling=\"no\" style=\"border:none;\" seamless=\"seamless\" src=\"https://plot.ly/~MBrink/2.embed\" height=\"525px\" width=\"100%\"></iframe>"
      ],
      "text/plain": [
       "<plotly.tools.PlotlyDisplay object>"
      ]
     },
     "execution_count": 16,
     "metadata": {},
     "output_type": "execute_result"
    }
   ],
   "source": [
    "data.append(node_trace)\n",
    "\n",
    "fig = go.Figure(data=data,\n",
    "             layout=go.Layout(\n",
    "                title='<br>Network graph GL 1981-1989 <br> <br> Every node represents a party and every edge represents the amount of collaborations',\n",
    "                titlefont=dict(size=16),\n",
    "                showlegend=False,\n",
    "                hovermode='closest',\n",
    "                margin=dict(b=20,l=5,r=5,t=100),\n",
    "                xaxis=dict(showgrid=False, zeroline=False, showticklabels=False),\n",
    "                yaxis=dict(showgrid=False, zeroline=False, showticklabels=False)))\n",
    "\n",
    "py.iplot(fig, filename='GL-plot', auto_open=True)"
   ]
  }
 ],
 "metadata": {
  "kernelspec": {
   "display_name": "Python 3",
   "language": "python",
   "name": "python3"
  },
  "language_info": {
   "codemirror_mode": {
    "name": "ipython",
    "version": 3
   },
   "file_extension": ".py",
   "mimetype": "text/x-python",
   "name": "python",
   "nbconvert_exporter": "python",
   "pygments_lexer": "ipython3",
   "version": "3.6.5"
  }
 },
 "nbformat": 4,
 "nbformat_minor": 2
}
